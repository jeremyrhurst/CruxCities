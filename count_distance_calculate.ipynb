{
 "cells": [
  {
   "cell_type": "code",
   "execution_count": 90,
   "metadata": {},
   "outputs": [],
   "source": [
    "import pandas as pd\n",
    "import os\n",
    "\n",
    "\n",
    "# Create a list of file names in folder routes that end with .csv\n",
    "filenames = [filename for filename in os.listdir('data/routes') if filename.endswith('.csv')]\n",
    "\n",
    "\n",
    "# Read all .csv files in folder routes with name in filenames list and concatenate them into one DataFrame\n",
    "df = pd.concat([pd.read_csv(f'data/routes/{filename}') for filename in filenames], ignore_index=True)\n"
   ]
  },
  {
   "cell_type": "code",
   "execution_count": 91,
   "metadata": {},
   "outputs": [],
   "source": [
    "from geopy.distance import geodesic\n",
    "# Given two coordinates in latitude and longitude, calculate the distance between them in miles\n",
    "def calculate_distance(lat1, lon1, lat2, lon2) -> float:\n",
    "\n",
    "    # Given two coordinates in latitude and longitude\n",
    "    coord1 = (lat1, lon1)\n",
    "    coord2 = (lat2, lon2)\n",
    "\n",
    "    # Calculate the distance between the two points in miles\n",
    "    distance = geodesic(coord1, coord2).miles\n",
    "    return distance\n",
    "\n",
    "result_df = pd.DataFrame()\n",
    "# Given a name and coordinate in latitude and longitude and a distance in miles:\n",
    "# Count the number of routes within the distance of the given coordinate\n",
    "# Print the name and the count\n",
    "def count_routes_within_distance(name, lat, lon, distance):\n",
    "    global result_df  # Declare result_df as a global variable\n",
    "    count = 0\n",
    "    area_df = pd.DataFrame()\n",
    "    for i in range(len(df)):\n",
    "        if calculate_distance(lat, lon, df['Area Latitude'][i], df['Area Longitude'][i]) <= distance:\n",
    "            count += 1\n",
    "            # Add row i of df to area_df\n",
    "            area_df = pd.concat([area_df, df.loc[[i]]], ignore_index=True)\n",
    "    area_df.to_csv(f'data/cities/{name}.csv', index=False)\n",
    "    result_df = pd.concat([result_df, pd.DataFrame({'City': [name], 'Count': [count]})], ignore_index=True)\n",
    "    print(f'{name}\\t {count}')"
   ]
  },
  {
   "cell_type": "code",
   "execution_count": 92,
   "metadata": {},
   "outputs": [
    {
     "name": "stdout",
     "output_type": "stream",
     "text": [
      "Mammoth Lakes CA\t 723\n",
      "Bishop\t 581\n",
      "Las Vegas\t 720\n",
      "Boulder, Colorado\t 518\n",
      "Lafayette Colorado\t 518\n",
      "Squamish\t 541\n",
      "Vancouver\t 517\n",
      "Salt Lake City\t 435\n",
      "Bend\t 317\n",
      "Moab\t 468\n",
      "Truckee\t 279\n",
      "South Lake Tahoe\t 343\n",
      "Boise\t 64\n",
      "Pacific Pipe Oakland\t 53\n",
      "San Francisco Mission Cliffs\t 53\n",
      "Seattle\t 28\n",
      "Sacramento\t 24\n",
      "Frazier Park\t 27\n",
      "Tucson\t 278\n",
      "San Diego\t 257\n",
      "Leavenworth WA\t 260\n",
      "Wentachee WA\t 248\n",
      "Phoenix\t 137\n",
      "Flagstaff\t 248\n"
     ]
    }
   ],
   "source": [
    "count_routes_within_distance('Mammoth Lakes CA', 37.647993, -118.982838, 30)\n",
    "count_routes_within_distance('Bishop', 37.362458, -118.394596, 30)\n",
    "count_routes_within_distance('Las Vegas', 36.158820, -115.271807, 30)\n",
    "count_routes_within_distance('Boulder, Colorado', 40.029609, -105.257574, 30)\n",
    "count_routes_within_distance('Lafayette Colorado', 39.965700, -105.116743, 30)\n",
    "count_routes_within_distance('Squamish', 49.700819, -123.154807, 30)\n",
    "count_routes_within_distance('Vancouver', 49.324173, -123.116863, 30)\n",
    "count_routes_within_distance('Salt Lake City', 40.753120, -111.874639, 30)\n",
    "count_routes_within_distance('Bend', 44.037383, -121.289769, 30)\n",
    "count_routes_within_distance('Moab', 38.573059, -109.546724, 30)\n",
    "count_routes_within_distance('Truckee', 39.326469, -120.218034, 30)\n",
    "count_routes_within_distance('South Lake Tahoe', 38.905038, -120.000606, 30)\n",
    "count_routes_within_distance('Boise', 43.592812, -116.378868, 30)\n",
    "count_routes_within_distance('Pacific Pipe Oakland', 37.816337, -122.288748, 30)\n",
    "count_routes_within_distance('San Francisco Mission Cliffs', 37.764972, -122.418303, 30)\n",
    "count_routes_within_distance('Seattle', 47.667375, -122.394363, 30)\n",
    "count_routes_within_distance('Sacramento', 38.612158, -121.259411, 30)\n",
    "count_routes_within_distance('Frazier Park', 34.820325, -118.939791, 30)\n",
    "count_routes_within_distance('Tucson', 32.329910, -111.049355, 30)\n",
    "count_routes_within_distance('San Diego', 32.759431, -117.160928, 30)\n",
    "count_routes_within_distance('Leavenworth WA', 47.596726, -120.662791, 30)\n",
    "count_routes_within_distance('Wentachee WA', 47.423447, -120.321975, 30)\n",
    "count_routes_within_distance('Phoenix', 33.408759, -111.877708, 30)\n",
    "count_routes_within_distance('Flagstaff', 47.423447, -120.321975, 30)"
   ]
  },
  {
   "cell_type": "code",
   "execution_count": 95,
   "metadata": {},
   "outputs": [
    {
     "name": "stdout",
     "output_type": "stream",
     "text": [
      "                            City  Count\n",
      "0               Mammoth Lakes CA    723\n",
      "1                      Las Vegas    720\n",
      "2                         Bishop    581\n",
      "3                       Squamish    541\n",
      "4              Boulder, Colorado    518\n",
      "5             Lafayette Colorado    518\n",
      "6                      Vancouver    517\n",
      "7                           Moab    468\n",
      "8                 Salt Lake City    435\n",
      "9               South Lake Tahoe    343\n",
      "10                          Bend    317\n",
      "11                       Truckee    279\n",
      "12                        Tucson    278\n",
      "13                Leavenworth WA    260\n",
      "14                     San Diego    257\n",
      "15                  Wentachee WA    248\n",
      "16                     Flagstaff    248\n",
      "17                       Phoenix    137\n",
      "18                         Boise     64\n",
      "19  San Francisco Mission Cliffs     53\n",
      "20          Pacific Pipe Oakland     53\n",
      "21                       Seattle     28\n",
      "22                  Frazier Park     27\n",
      "23                    Sacramento     24\n"
     ]
    }
   ],
   "source": [
    "print(result_df.sort_values(by='Count', ascending=False, ignore_index=True))"
   ]
  }
 ],
 "metadata": {
  "kernelspec": {
   "display_name": "Python 3",
   "language": "python",
   "name": "python3"
  },
  "language_info": {
   "codemirror_mode": {
    "name": "ipython",
    "version": 3
   },
   "file_extension": ".py",
   "mimetype": "text/x-python",
   "name": "python",
   "nbconvert_exporter": "python",
   "pygments_lexer": "ipython3",
   "version": "3.11.9"
  }
 },
 "nbformat": 4,
 "nbformat_minor": 2
}
