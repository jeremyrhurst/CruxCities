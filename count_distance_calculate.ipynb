{
 "cells": [
  {
   "cell_type": "code",
   "execution_count": 1,
   "metadata": {},
   "outputs": [],
   "source": [
    "import pandas as pd\n",
    "df = pd.read_csv('./data/3+ stars routes California, Colorado, Utah, Nevada, New Mexico, Washington, Oregon, Idaho, Montana, Wyoming, BC.csv')"
   ]
  },
  {
   "cell_type": "code",
   "execution_count": 2,
   "metadata": {},
   "outputs": [],
   "source": [
    "import math\n",
    "from geopy.distance import geodesic\n",
    "# Given two coordinates in latitude and longitude, calculate the distance between them in miles\n",
    "def calculate_distance(lat1, lon1, lat2, lon2) -> float:\n",
    "\n",
    "    # Given two coordinates in latitude and longitude\n",
    "    coord1 = (lat1, lon1)\n",
    "    coord2 = (lat2, lon2)\n",
    "\n",
    "    # Calculate the distance between the two points in miles\n",
    "    distance = geodesic(coord1, coord2).miles\n",
    "    return distance\n",
    "\n",
    "\n",
    "# Given a coordinate in latitude and longitude and a distance in miles:\n",
    "# return the count of routes in the dataframe df that are within the given distance\n",
    "def count_routes_within_distance(lat, lon, distance):\n",
    "    count = 0\n",
    "    for i in range(len(df)):\n",
    "        if calculate_distance(lat, lon, df['Area Latitude'][i], df['Area Longitude'][i]) <= distance:\n",
    "            count += 1\n",
    "    return count"
   ]
  },
  {
   "cell_type": "code",
   "execution_count": 3,
   "metadata": {},
   "outputs": [
    {
     "name": "stdout",
     "output_type": "stream",
     "text": [
      "485\n"
     ]
    }
   ],
   "source": [
    "# Las Vegas\n",
    "print(count_routes_within_distance(36.158820, -115.271807, 30))"
   ]
  },
  {
   "cell_type": "code",
   "execution_count": 4,
   "metadata": {},
   "outputs": [
    {
     "name": "stdout",
     "output_type": "stream",
     "text": [
      "387\n"
     ]
    }
   ],
   "source": [
    "# Squamish\n",
    "print(count_routes_within_distance(49.700819, -123.154807, 30))"
   ]
  },
  {
   "cell_type": "code",
   "execution_count": 5,
   "metadata": {},
   "outputs": [
    {
     "name": "stdout",
     "output_type": "stream",
     "text": [
      "313\n"
     ]
    }
   ],
   "source": [
    "# Vancouver\n",
    "print(count_routes_within_distance(49.324173, -123.116863, 30))"
   ]
  },
  {
   "cell_type": "code",
   "execution_count": 6,
   "metadata": {},
   "outputs": [
    {
     "name": "stdout",
     "output_type": "stream",
     "text": [
      "300\n",
      "201\n"
     ]
    }
   ],
   "source": [
    "# Boulder Colorado\n",
    "print(count_routes_within_distance(40.029609, -105.257574, 30))\n",
    "# Lafayyete Colorado\n",
    "print(count_routes_within_distance(39.967687, -105.116934, 30))"
   ]
  },
  {
   "cell_type": "code",
   "execution_count": 7,
   "metadata": {},
   "outputs": [
    {
     "name": "stdout",
     "output_type": "stream",
     "text": [
      "237\n"
     ]
    }
   ],
   "source": [
    "# Mammoth Lakes CA \n",
    "print(count_routes_within_distance(37.647993, -118.982838, 30))"
   ]
  },
  {
   "cell_type": "code",
   "execution_count": 8,
   "metadata": {},
   "outputs": [
    {
     "name": "stdout",
     "output_type": "stream",
     "text": [
      "200\n"
     ]
    }
   ],
   "source": [
    "# Salt lake city\n",
    "print(count_routes_within_distance(40.753120, -111.874639, 30))"
   ]
  },
  {
   "cell_type": "code",
   "execution_count": 9,
   "metadata": {},
   "outputs": [
    {
     "name": "stdout",
     "output_type": "stream",
     "text": [
      "178\n"
     ]
    }
   ],
   "source": [
    "# Moab\n",
    "print(count_routes_within_distance(38.573059, -109.546724, 30))"
   ]
  },
  {
   "cell_type": "code",
   "execution_count": 10,
   "metadata": {},
   "outputs": [
    {
     "name": "stdout",
     "output_type": "stream",
     "text": [
      "76\n",
      "89\n"
     ]
    }
   ],
   "source": [
    "# Truckee\n",
    "print(count_routes_within_distance(39.326469, -120.218034, 30))\n",
    "# South lake Tahoe\n",
    "print(count_routes_within_distance(38.905038, -120.000606, 30))"
   ]
  },
  {
   "cell_type": "code",
   "execution_count": 11,
   "metadata": {},
   "outputs": [
    {
     "name": "stdout",
     "output_type": "stream",
     "text": [
      "41\n"
     ]
    }
   ],
   "source": [
    "# Boise\n",
    "print(count_routes_within_distance(43.592812, -116.378868, 30))"
   ]
  },
  {
   "cell_type": "code",
   "execution_count": 12,
   "metadata": {},
   "outputs": [
    {
     "name": "stdout",
     "output_type": "stream",
     "text": [
      "11\n"
     ]
    }
   ],
   "source": [
    "#Pacific pipe Oakland\n",
    "print(count_routes_within_distance(37.816337, -122.288748, 30))"
   ]
  },
  {
   "cell_type": "code",
   "execution_count": 13,
   "metadata": {},
   "outputs": [
    {
     "name": "stdout",
     "output_type": "stream",
     "text": [
      "11\n"
     ]
    }
   ],
   "source": [
    "# San Francisco Mission Cliffs\n",
    "print(count_routes_within_distance(37.764972, -122.418303, 30))"
   ]
  },
  {
   "cell_type": "code",
   "execution_count": 14,
   "metadata": {},
   "outputs": [
    {
     "name": "stdout",
     "output_type": "stream",
     "text": [
      "5\n"
     ]
    }
   ],
   "source": [
    "# Seattle\n",
    "print(count_routes_within_distance(47.667375, -122.394363, 30))"
   ]
  },
  {
   "cell_type": "code",
   "execution_count": 15,
   "metadata": {},
   "outputs": [
    {
     "name": "stdout",
     "output_type": "stream",
     "text": [
      "4\n"
     ]
    }
   ],
   "source": [
    "# Sacramento\n",
    "print(count_routes_within_distance(38.612158, -121.259411, 30))"
   ]
  }
 ],
 "metadata": {
  "kernelspec": {
   "display_name": "Python 3",
   "language": "python",
   "name": "python3"
  },
  "language_info": {
   "codemirror_mode": {
    "name": "ipython",
    "version": 3
   },
   "file_extension": ".py",
   "mimetype": "text/x-python",
   "name": "python",
   "nbconvert_exporter": "python",
   "pygments_lexer": "ipython3",
   "version": "3.11.9"
  }
 },
 "nbformat": 4,
 "nbformat_minor": 2
}
