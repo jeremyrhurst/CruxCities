{
 "cells": [
  {
   "cell_type": "code",
   "execution_count": 8,
   "metadata": {},
   "outputs": [
    {
     "name": "stdout",
     "output_type": "stream",
     "text": [
      "                                        Route  \\\n",
      "0                                    The Nose   \n",
      "1  Regular Northwest Face of Half Dome (RNWF)   \n",
      "2                                Salathé Wall   \n",
      "3                         Positive Vibrations   \n",
      "4       *CLOSED FOR SAFETY* Sons of Yesterday   \n",
      "\n",
      "                                            Location  \\\n",
      "0  2. Southwest Face > B. El Capitan > Valley Nor...   \n",
      "1  1. Northwest Face > D. Half Dome > Valley Sout...   \n",
      "2  2. Southwest Face > B. El Capitan > Valley Nor...   \n",
      "3  Incredible Hulk > 02 - The Sawtooth Ridge > Hi...   \n",
      "4  Western Royal Arches > Royal Arches > H. Royal...   \n",
      "\n",
      "                                                 URL  Avg Stars  Your Stars  \\\n",
      "0  https://www.mountainproject.com/route/10592480...        3.9          -1   \n",
      "1  https://www.mountainproject.com/route/10591241...        3.9          -1   \n",
      "2  https://www.mountainproject.com/route/10615404...        4.0          -1   \n",
      "3  https://www.mountainproject.com/route/10586067...        4.0          -1   \n",
      "4  https://www.mountainproject.com/route/10586291...        3.9          -1   \n",
      "\n",
      "     Route Type  Rating  Pitches  Length  Area Latitude  Area Longitude  \n",
      "0     Trad, Aid  5.9 C2       31  3000.0       37.73051      -119.63828  \n",
      "1     Trad, Aid  5.9 C1       23  2200.0       37.74685      -119.53360  \n",
      "2     Trad, Aid  5.9 C2       35  3500.0       37.73051      -119.63828  \n",
      "3  Trad, Alpine   5.11a       12  1200.0       38.12188      -119.41522  \n",
      "4          Trad   5.10-        6   600.0       37.74873      -119.57265  \n"
     ]
    }
   ],
   "source": [
    "import pandas as pd\n",
    "df = pd.read_csv('C:/Users/apoph/OneDrive/Documents/GitHub/rock-climbing-analysis/data/3+ stars routes California, Colorado, Utah, Nevada, New Mexico, Washington, Oregon, Idaho, Montana, Wyoming.csv')"
   ]
  },
  {
   "cell_type": "code",
   "execution_count": 11,
   "metadata": {},
   "outputs": [],
   "source": [
    "import math\n",
    "from geopy.distance import geodesic\n",
    "# Given two coordinates in latitude and longitude, calculate the distance between them in miles\n",
    "def calculate_distance(lat1, lon1, lat2, lon2):\n",
    "\n",
    "    # Given two coordinates in latitude and longitude\n",
    "    coord1 = (lat1, lon1)\n",
    "    coord2 = (lat2, lon2)\n",
    "\n",
    "    # Calculate the distance between the two points\n",
    "    distance = geodesic(coord1, coord2).miles\n",
    "    return distance\n",
    "\n",
    "\n",
    "# Given a coordinate in latitude and longitude and a distance in miles:\n",
    "# return the count of routes in the dataframe df that are within the given distance\n",
    "def count_routes_within_distance(lat, lon, distance):\n",
    "    count = 0\n",
    "    for i in range(len(df)):\n",
    "        if calculate_distance(lat, lon, df['Area Latitude'][i], df['Area Longitude'][i]) <= distance:\n",
    "            count += 1\n",
    "    return count"
   ]
  },
  {
   "cell_type": "code",
   "execution_count": 13,
   "metadata": {},
   "outputs": [
    {
     "name": "stdout",
     "output_type": "stream",
     "text": [
      "200\n"
     ]
    }
   ],
   "source": [
    "# Salt lake city\n",
    "print(count_routes_within_distance(40.753120, -111.874639, 30))"
   ]
  },
  {
   "cell_type": "code",
   "execution_count": 25,
   "metadata": {},
   "outputs": [
    {
     "name": "stdout",
     "output_type": "stream",
     "text": [
      "76\n",
      "89\n"
     ]
    }
   ],
   "source": [
    "# Truckee\n",
    "print(count_routes_within_distance(39.326469, -120.218034, 30))\n",
    "# South lake Tahoe\n",
    "print(count_routes_within_distance(38.905038, -120.000606, 30))"
   ]
  },
  {
   "cell_type": "code",
   "execution_count": 17,
   "metadata": {},
   "outputs": [
    {
     "name": "stdout",
     "output_type": "stream",
     "text": [
      "11\n"
     ]
    }
   ],
   "source": [
    "#Pacific pipe\n",
    "print(count_routes_within_distance(37.816337, -122.288748, 30))"
   ]
  },
  {
   "cell_type": "code",
   "execution_count": 18,
   "metadata": {},
   "outputs": [
    {
     "name": "stdout",
     "output_type": "stream",
     "text": [
      "5\n"
     ]
    }
   ],
   "source": [
    "# Seattle\n",
    "print(count_routes_within_distance(47.667375, -122.394363, 30))"
   ]
  },
  {
   "cell_type": "code",
   "execution_count": 20,
   "metadata": {},
   "outputs": [
    {
     "name": "stdout",
     "output_type": "stream",
     "text": [
      "300\n",
      "201\n"
     ]
    }
   ],
   "source": [
    "# Boulder Colorado\n",
    "print(count_routes_within_distance(40.029609, -105.257574, 30))\n",
    "# Lafayyete Colorado\n",
    "print(count_routes_within_distance(39.967687, -105.116934, 30))"
   ]
  },
  {
   "cell_type": "code",
   "execution_count": 21,
   "metadata": {},
   "outputs": [
    {
     "name": "stdout",
     "output_type": "stream",
     "text": [
      "178\n"
     ]
    }
   ],
   "source": [
    "# Moab\n",
    "print(count_routes_within_distance(38.573059, -109.546724, 30))"
   ]
  },
  {
   "cell_type": "code",
   "execution_count": 22,
   "metadata": {},
   "outputs": [
    {
     "name": "stdout",
     "output_type": "stream",
     "text": [
      "485\n"
     ]
    }
   ],
   "source": [
    "# Las Vegas\n",
    "print(count_routes_within_distance(36.158820, -115.271807, 30))"
   ]
  },
  {
   "cell_type": "code",
   "execution_count": 23,
   "metadata": {},
   "outputs": [
    {
     "name": "stdout",
     "output_type": "stream",
     "text": [
      "237\n"
     ]
    }
   ],
   "source": [
    "# Mammoth Lakes CA \n",
    "print(count_routes_within_distance(37.647993, -118.982838, 30))"
   ]
  },
  {
   "cell_type": "code",
   "execution_count": 24,
   "metadata": {},
   "outputs": [
    {
     "name": "stdout",
     "output_type": "stream",
     "text": [
      "4\n"
     ]
    }
   ],
   "source": [
    "# Sacramento\n",
    "print(count_routes_within_distance(38.612158, -121.259411, 30))"
   ]
  }
 ],
 "metadata": {
  "kernelspec": {
   "display_name": "Python 3",
   "language": "python",
   "name": "python3"
  },
  "language_info": {
   "codemirror_mode": {
    "name": "ipython",
    "version": 3
   },
   "file_extension": ".py",
   "mimetype": "text/x-python",
   "name": "python",
   "nbconvert_exporter": "python",
   "pygments_lexer": "ipython3",
   "version": "3.11.9"
  }
 },
 "nbformat": 4,
 "nbformat_minor": 2
}
