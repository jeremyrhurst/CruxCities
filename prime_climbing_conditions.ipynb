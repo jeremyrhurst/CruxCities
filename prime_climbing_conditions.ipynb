{
 "cells": [
  {
   "cell_type": "code",
   "execution_count": 1,
   "metadata": {},
   "outputs": [],
   "source": [
    "import toml\n",
    "\n",
    "# Read data/climbing_area_tick_rate_per_month.toml into dictionary pc\n",
    "\n",
    "with open('data/climbing_area_tick_rate_per_month.toml') as f:\n",
    "    pc = toml.load(f)"
   ]
  },
  {
   "cell_type": "code",
   "execution_count": 2,
   "metadata": {},
   "outputs": [],
   "source": [
    "def calculate_good_climbing_weather(ticks):\n",
    "    # First attempt to determine good climbing months\n",
    "    # Using a method of determining which month has the most ticks\n",
    "    # Then deviding the sum of all ticks by the most ticks in a month\n",
    "    # This gives the total number of months are comparable to the best month\n",
    "    # This method causes areas with high tourism in one particular month to be rated lower\n",
    "    s = sum(ticks)\n",
    "    m = max(ticks)\n",
    "    return round(s/m, 1)\n"
   ]
  },
  {
   "cell_type": "code",
   "execution_count": 3,
   "metadata": {},
   "outputs": [],
   "source": [
    "def good_climbing_weather_div_limit(ticks):\n",
    "    # Second attempt to determine good climbing months\n",
    "    # Taking the month with the most ticks and dividing it by 2\n",
    "    # Then limiting all other months to this value if they are higher\n",
    "    # The logic behind this the following:\n",
    "    # any month with half the number of ticks as the best month would still be considered\n",
    "    # a month with good climbing weather\n",
    "    # This method results with the Bay Area and San Diego rated at 12 which\n",
    "    # isn't quite right since that would mean any day of the year you can climb\n",
    "    # and they both have a non-zero number of rainy days\n",
    "    m = max(ticks)\n",
    "    limit = m/2\n",
    "    months = []\n",
    "    for i in range(len(ticks)):\n",
    "        if ticks[i] > limit:\n",
    "            months.append(limit)\n",
    "        else:\n",
    "            months.append(ticks[i])\n",
    "    s = sum(months)\n",
    "    return round(s/limit, 1)"
   ]
  },
  {
   "cell_type": "code",
   "execution_count": 4,
   "metadata": {},
   "outputs": [],
   "source": [
    "def good_climbing_weather_normalized(ticks):\n",
    "    # Third attempt to determine good climbing months\n",
    "    # To help reduce the effect of extreme values from tourist seasons\n",
    "    # Set the high limit to the average of the highest and lowest values\n",
    "    # This way the climbing areas with high spikes won't be penalized as much \n",
    "    highest = max(ticks)\n",
    "    lowest = min(ticks)\n",
    "    limit = (highest + lowest)/2\n",
    "    months = []\n",
    "    for i in range(len(ticks)):\n",
    "        if ticks[i] > limit:\n",
    "            months.append(limit)\n",
    "        else:\n",
    "            months.append(ticks[i])\n",
    "    s = sum(months)\n",
    "    return round(s/limit, 1)"
   ]
  },
  {
   "cell_type": "code",
   "execution_count": 5,
   "metadata": {},
   "outputs": [],
   "source": [
    "def print_results(function_name):\n",
    "    res = {}\n",
    "    for key in pc:\n",
    "        # Call the function passed as argument\n",
    "        res[key] = function_name(pc[key][0]['ticks'])\n",
    "    for key, value in sorted(res.items(), key=lambda x: x[1], reverse=True):\n",
    "        print(f'{key}: {value}')"
   ]
  },
  {
   "cell_type": "code",
   "execution_count": 6,
   "metadata": {},
   "outputs": [
    {
     "name": "stdout",
     "output_type": "stream",
     "text": [
      "East Bay Area: 9.6\n",
      "Eldorado: 8.5\n",
      "San Diego: 8.5\n",
      "Tucson: 8.3\n",
      "Flagstaff: 7.7\n",
      "Sierra Eastside: 6.8\n",
      "Wasatch Range: 6.7\n",
      "Lake Tahoe: 6.2\n",
      "Smith Rock: 6.1\n",
      "Phoenix: 6.1\n",
      "Leavenworth: 5.9\n",
      "Owen's River Gorge: 5.3\n",
      "Las Vegas: 5.1\n",
      "Indian Creek: 3.8\n",
      "Squamish: 3.7\n",
      "Bariloche: 2.7\n"
     ]
    }
   ],
   "source": [
    "print_results(calculate_good_climbing_weather)"
   ]
  },
  {
   "cell_type": "code",
   "execution_count": 7,
   "metadata": {},
   "outputs": [
    {
     "name": "stdout",
     "output_type": "stream",
     "text": [
      "East Bay Area: 12.0\n",
      "San Diego: 12.0\n",
      "Tucson: 11.6\n",
      "Sierra Eastside: 11.4\n",
      "Eldorado: 11.0\n",
      "Flagstaff: 10.4\n",
      "Smith Rock: 9.8\n",
      "Owen's River Gorge: 8.9\n",
      "Wasatch Range: 8.8\n",
      "Lake Tahoe: 8.7\n",
      "Phoenix: 8.4\n",
      "Las Vegas: 8.0\n",
      "Leavenworth: 8.0\n",
      "Squamish: 5.6\n",
      "Indian Creek: 5.5\n",
      "Bariloche: 4.1\n"
     ]
    }
   ],
   "source": [
    "print_results(good_climbing_weather_div_limit)"
   ]
  },
  {
   "cell_type": "code",
   "execution_count": 8,
   "metadata": {},
   "outputs": [
    {
     "name": "stdout",
     "output_type": "stream",
     "text": [
      "East Bay Area: 11.2\n",
      "San Diego: 10.6\n",
      "Eldorado: 10.5\n",
      "Tucson: 10.4\n",
      "Flagstaff: 9.9\n",
      "Sierra Eastside: 9.4\n",
      "Smith Rock: 9.2\n",
      "Wasatch Range: 8.7\n",
      "Owen's River Gorge: 8.6\n",
      "Lake Tahoe: 8.4\n",
      "Phoenix: 8.2\n",
      "Las Vegas: 7.9\n",
      "Leavenworth: 7.9\n",
      "Squamish: 5.5\n",
      "Indian Creek: 5.5\n",
      "Bariloche: 4.1\n"
     ]
    }
   ],
   "source": [
    "print_results(good_climbing_weather_normalized)"
   ]
  },
  {
   "cell_type": "code",
   "execution_count": 13,
   "metadata": {},
   "outputs": [
    {
     "ename": "TypeError",
     "evalue": "bar() missing 1 required positional argument: 'x'",
     "output_type": "error",
     "traceback": [
      "\u001b[1;31m---------------------------------------------------------------------------\u001b[0m",
      "\u001b[1;31mTypeError\u001b[0m                                 Traceback (most recent call last)",
      "Cell \u001b[1;32mIn[13], line 11\u001b[0m\n\u001b[0;32m      7\u001b[0m     plt\u001b[38;5;241m.\u001b[39mshow()\n\u001b[0;32m     10\u001b[0m \u001b[38;5;28;01mfor\u001b[39;00m key \u001b[38;5;129;01min\u001b[39;00m pc:\n\u001b[1;32m---> 11\u001b[0m     \u001b[43mplot_ticks\u001b[49m\u001b[43m(\u001b[49m\u001b[43mkey\u001b[49m\u001b[43m)\u001b[49m\n",
      "Cell \u001b[1;32mIn[13], line 5\u001b[0m, in \u001b[0;36mplot_ticks\u001b[1;34m(key)\u001b[0m\n\u001b[0;32m      3\u001b[0m \u001b[38;5;28;01mdef\u001b[39;00m \u001b[38;5;21mplot_ticks\u001b[39m(key):\n\u001b[0;32m      4\u001b[0m     ticks \u001b[38;5;241m=\u001b[39m pc[key][\u001b[38;5;241m0\u001b[39m][\u001b[38;5;124m'\u001b[39m\u001b[38;5;124mticks\u001b[39m\u001b[38;5;124m'\u001b[39m]\n\u001b[1;32m----> 5\u001b[0m     \u001b[43mplt\u001b[49m\u001b[38;5;241;43m.\u001b[39;49m\u001b[43mbar\u001b[49m\u001b[43m(\u001b[49m\u001b[43mheight\u001b[49m\u001b[38;5;241;43m=\u001b[39;49m\u001b[43mticks\u001b[49m\u001b[43m,\u001b[49m\u001b[43m \u001b[49m\u001b[43mlabel\u001b[49m\u001b[38;5;241;43m=\u001b[39;49m\u001b[43mkey\u001b[49m\u001b[43m)\u001b[49m\n\u001b[0;32m      6\u001b[0m     plt\u001b[38;5;241m.\u001b[39mlegend()\n\u001b[0;32m      7\u001b[0m     plt\u001b[38;5;241m.\u001b[39mshow()\n",
      "\u001b[1;31mTypeError\u001b[0m: bar() missing 1 required positional argument: 'x'"
     ]
    }
   ],
   "source": [
    "import matplotlib.pyplot as plt\n",
    "\n",
    "def plot_ticks(key):\n",
    "    ticks = pc[key][0]['ticks']\n",
    "    months = ['Jan', 'Feb', 'Mar', 'Apr', 'May', 'Jun', 'Jul', 'Aug', 'Sep', 'Oct', 'Nov', 'Dec]\n",
    "    plt.bar(height=ticks, label=key)\n",
    "    plt.legend()\n",
    "    plt.show()\n",
    "\n",
    "\n",
    "for key in pc:\n",
    "    plot_ticks(key)"
   ]
  }
 ],
 "metadata": {
  "kernelspec": {
   "display_name": "Python 3",
   "language": "python",
   "name": "python3"
  },
  "language_info": {
   "codemirror_mode": {
    "name": "ipython",
    "version": 3
   },
   "file_extension": ".py",
   "mimetype": "text/x-python",
   "name": "python",
   "nbconvert_exporter": "python",
   "pygments_lexer": "ipython3",
   "version": "3.11.9"
  }
 },
 "nbformat": 4,
 "nbformat_minor": 2
}
