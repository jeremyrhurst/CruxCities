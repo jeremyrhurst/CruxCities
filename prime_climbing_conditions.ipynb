{
 "cells": [
  {
   "cell_type": "code",
   "execution_count": 39,
   "metadata": {},
   "outputs": [],
   "source": [
    "import json\n",
    "import math\n",
    "\n",
    "# Read data/prime_conditions.json file into dictionary\n",
    "with open('data/prime_conditions.json', 'r') as f:\n",
    "    pc = json.load(f)"
   ]
  },
  {
   "cell_type": "code",
   "execution_count": 40,
   "metadata": {},
   "outputs": [],
   "source": [
    "def calculate_good_climbing_weather(ticks):\n",
    "    # First attempt to determine good climbing months\n",
    "    # Using a method of determining which month has the most ticks\n",
    "    # Then deviding the sum of all ticks by the most ticks in a month\n",
    "    # This gives the total number of months are comparable to the best month\n",
    "    # This method causes areas with high tourism in one particular month to be rated lower\n",
    "    s = sum(ticks)\n",
    "    m = max(ticks)\n",
    "    return round(s/m, 1)\n"
   ]
  },
  {
   "cell_type": "code",
   "execution_count": 41,
   "metadata": {},
   "outputs": [],
   "source": [
    "def good_climbing_weather_div_limit(ticks):\n",
    "    # Second attempt to determine good climbing months\n",
    "    # Taking the month with the most ticks and dividing it by 2\n",
    "    # Then limiting all other months to this value if they are higher\n",
    "    # The logic behind this the following:\n",
    "    # any month with half the number of ticks as the best month would still be considered\n",
    "    # a month with good climbing weather\n",
    "    m = max(ticks)\n",
    "    limit = m/2\n",
    "    for i in range(len(ticks)):\n",
    "        if ticks[i] > limit:\n",
    "            ticks[i] = limit\n",
    "    s = sum(ticks)\n",
    "    return round(s/limit, 1)"
   ]
  },
  {
   "cell_type": "code",
   "execution_count": 42,
   "metadata": {},
   "outputs": [],
   "source": [
    "def good_climbing_weather_log(ticks):\n",
    "    # Third attempt to determine good climbing months\n",
    "    # Taking the log of the ticks in each month\n",
    "    # Then summing the logs and dividing by the max log\n",
    "    # This should even out the extreme values\n",
    "    for i in range(len(ticks)):\n",
    "        ticks[i] = math.log(ticks[i])\n",
    "    s = sum(ticks)\n",
    "    m = max(ticks)\n",
    "    return round(s/m, 1)"
   ]
  },
  {
   "cell_type": "code",
   "execution_count": 43,
   "metadata": {},
   "outputs": [],
   "source": [
    "def print_results(function_name):\n",
    "    res = {}\n",
    "    for key in pc:\n",
    "        # Call the function passed as argument\n",
    "        res[key] = function_name(pc[key])\n",
    "    for key, value in sorted(res.items(), key=lambda x: x[1], reverse=True):\n",
    "        print(f'{key}: {value}')"
   ]
  },
  {
   "cell_type": "code",
   "execution_count": 44,
   "metadata": {},
   "outputs": [
    {
     "name": "stdout",
     "output_type": "stream",
     "text": [
      "East Bay Area: 9.6\n",
      "Eldorado: 8.5\n",
      "San Diego: 8.5\n",
      "Tucson: 8.3\n",
      "Flagstaff: 7.7\n",
      "Sierra Eastside: 6.8\n",
      "Wasatch Range: 6.7\n",
      "Lake Tahoe: 6.2\n",
      "Smith Rock: 6.1\n",
      "Phoenix: 6.1\n",
      "Leavenworth: 5.9\n",
      "Owen's River Gorge: 5.3\n",
      "Las Vegas: 5.1\n",
      "Indian Creek: 3.8\n",
      "Squamish: 3.7\n",
      "Bariloche: 2.7\n"
     ]
    }
   ],
   "source": [
    "print_results(calculate_good_climbing_weather)"
   ]
  },
  {
   "cell_type": "code",
   "execution_count": 45,
   "metadata": {},
   "outputs": [
    {
     "name": "stdout",
     "output_type": "stream",
     "text": [
      "East Bay Area: 12.0\n",
      "San Diego: 12.0\n",
      "Tucson: 11.6\n",
      "Sierra Eastside: 11.4\n",
      "Eldorado: 11.0\n",
      "Flagstaff: 10.4\n",
      "Smith Rock: 9.8\n",
      "Owen's River Gorge: 8.9\n",
      "Wasatch Range: 8.8\n",
      "Lake Tahoe: 8.7\n",
      "Phoenix: 8.4\n",
      "Las Vegas: 8.0\n",
      "Leavenworth: 8.0\n",
      "Squamish: 5.6\n",
      "Indian Creek: 5.5\n",
      "Bariloche: 4.1\n"
     ]
    }
   ],
   "source": [
    "print_results(good_climbing_weather_div_limit)"
   ]
  },
  {
   "cell_type": "code",
   "execution_count": 46,
   "metadata": {},
   "outputs": [
    {
     "name": "stdout",
     "output_type": "stream",
     "text": [
      "East Bay Area: 12.0\n",
      "San Diego: 12.0\n",
      "Eldorado: 11.9\n",
      "Sierra Eastside: 11.9\n",
      "Tucson: 11.9\n",
      "Flagstaff: 11.7\n",
      "Smith Rock: 11.6\n",
      "Wasatch Range: 11.4\n",
      "Lake Tahoe: 11.4\n",
      "Owen's River Gorge: 11.2\n",
      "Las Vegas: 11.1\n",
      "Phoenix: 11.1\n",
      "Leavenworth: 10.9\n",
      "Squamish: 10.4\n",
      "Indian Creek: 10.3\n",
      "Bariloche: 7.4\n"
     ]
    }
   ],
   "source": [
    "print_results(good_climbing_weather_log)"
   ]
  }
 ],
 "metadata": {
  "kernelspec": {
   "display_name": "Python 3",
   "language": "python",
   "name": "python3"
  },
  "language_info": {
   "codemirror_mode": {
    "name": "ipython",
    "version": 3
   },
   "file_extension": ".py",
   "mimetype": "text/x-python",
   "name": "python",
   "nbconvert_exporter": "python",
   "pygments_lexer": "ipython3",
   "version": "3.11.9"
  }
 },
 "nbformat": 4,
 "nbformat_minor": 2
}
